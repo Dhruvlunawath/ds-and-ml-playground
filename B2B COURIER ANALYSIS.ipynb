{
 "cells": [
  {
   "cell_type": "code",
   "execution_count": 1,
   "id": "6a9cd5eb",
   "metadata": {},
   "outputs": [],
   "source": [
    "import pandas as pd\n",
    "import matplotlib.pyplot as plt\n",
    "import seaborn as sns"
   ]
  },
  {
   "cell_type": "code",
   "execution_count": 2,
   "id": "aeef1515",
   "metadata": {},
   "outputs": [],
   "source": [
    "sku_master=pd.read_csv(r\"C:\\Users\\dhruv\\Downloads\\b2b\\SKU Master.csv\")\n",
    "courier_rates=pd.read_csv(r\"C:\\Users\\dhruv\\Downloads\\b2b\\Courier Company - Rates.csv\")\n",
    "invoice=pd.read_csv(r\"C:\\Users\\dhruv\\Downloads\\b2b\\Invoice.csv\")\n",
    "order_report=pd.read_csv(r\"C:\\Users\\dhruv\\Downloads\\b2b\\Order Report.csv\")\n",
    "pincode=pd.read_csv(r\"C:\\Users\\dhruv\\Downloads\\b2b\\pincodes.csv\")"
   ]
  },
  {
   "cell_type": "code",
   "execution_count": 3,
   "id": "618a7d1a",
   "metadata": {},
   "outputs": [
    {
     "name": "stdout",
     "output_type": "stream",
     "text": [
      "SKU MASTER\n",
      "             SKU  Weight (g)  Unnamed: 2  Unnamed: 3  Unnamed: 4\n",
      "0  8904223815682         210         NaN         NaN         NaN\n",
      "1  8904223815859         165         NaN         NaN         NaN\n",
      "2  8904223815866         113         NaN         NaN         NaN\n",
      "3  8904223815873          65         NaN         NaN         NaN\n",
      "4  8904223816214         120         NaN         NaN         NaN\n",
      "courier_rates\n",
      "   fwd_a_fixed  fwd_a_additional  fwd_b_fixed  fwd_b_additional  fwd_c_fixed  \\\n",
      "0         29.5              23.6           33              28.3         40.1   \n",
      "\n",
      "   fwd_c_additional  fwd_d_fixed  fwd_d_additional  fwd_e_fixed  \\\n",
      "0              38.9         45.4              44.8         56.6   \n",
      "\n",
      "   fwd_e_additional  rto_a_fixed  rto_a_additional  rto_b_fixed  \\\n",
      "0              55.5         13.6              23.6         20.5   \n",
      "\n",
      "   rto_b_additional  rto_c_fixed  rto_c_additional  rto_d_fixed  \\\n",
      "0              28.3         31.9              38.9         41.3   \n",
      "\n",
      "   rto_d_additional  rto_e_fixed  rto_e_additional  \n",
      "0              44.8         50.7              55.5  \n",
      "invoice\n",
      "        AWB Code    Order ID  Charged Weight  Warehouse Pincode  \\\n",
      "0  1091117222124  2001806232            1.30             121003   \n",
      "1  1091117222194  2001806273            1.00             121003   \n",
      "2  1091117222931  2001806408            2.50             121003   \n",
      "3  1091117223244  2001806458            1.00             121003   \n",
      "4  1091117229345  2001807012            0.15             121003   \n",
      "\n",
      "   Customer Pincode Zone Type of Shipment  Billing Amount (Rs.)  \n",
      "0            507101    d  Forward charges                 135.0  \n",
      "1            486886    d  Forward charges                  90.2  \n",
      "2            532484    d  Forward charges                 224.6  \n",
      "3            143001    b  Forward charges                  61.3  \n",
      "4            515591    d  Forward charges                  45.4  \n",
      "order_report\n",
      "   ExternOrderNo            SKU  Order Qty  Unnamed: 3  Unnamed: 4\n",
      "0     2001827036  8904223818706        1.0         NaN         NaN\n",
      "1     2001827036  8904223819093        1.0         NaN         NaN\n",
      "2     2001827036  8904223819109        1.0         NaN         NaN\n",
      "3     2001827036  8904223818430        1.0         NaN         NaN\n",
      "4     2001827036  8904223819277        1.0         NaN         NaN\n",
      "pincode\n",
      "   Warehouse Pincode  Customer Pincode Zone  Unnamed: 3  Unnamed: 4\n",
      "0             121003            507101    d         NaN         NaN\n",
      "1             121003            486886    d         NaN         NaN\n",
      "2             121003            532484    d         NaN         NaN\n",
      "3             121003            143001    b         NaN         NaN\n",
      "4             121003            515591    d         NaN         NaN\n"
     ]
    }
   ],
   "source": [
    "print('SKU MASTER')\n",
    "print(sku_master.head())\n",
    "print('courier_rates')\n",
    "print(courier_rates.head())\n",
    "print('invoice')\n",
    "print(invoice.head())\n",
    "print('order_report')\n",
    "print(order_report.head())\n",
    "print('pincode')\n",
    "print(pincode.head())"
   ]
  },
  {
   "cell_type": "code",
   "execution_count": 4,
   "id": "8f50b68c",
   "metadata": {},
   "outputs": [
    {
     "name": "stdout",
     "output_type": "stream",
     "text": [
      "\n",
      "Missing values in Website Order Report:\n",
      "ExternOrderNo      0\n",
      "SKU                0\n",
      "Order Qty          0\n",
      "Unnamed: 3       400\n",
      "Unnamed: 4       400\n",
      "dtype: int64\n",
      "\n",
      "Missing values in SKU Master:\n",
      "SKU            0\n",
      "Weight (g)     0\n",
      "Unnamed: 2    66\n",
      "Unnamed: 3    66\n",
      "Unnamed: 4    66\n",
      "dtype: int64\n",
      "\n",
      "Missing values in Pincode Mapping:\n",
      "Warehouse Pincode      0\n",
      "Customer Pincode       0\n",
      "Zone                   0\n",
      "Unnamed: 3           124\n",
      "Unnamed: 4           124\n",
      "dtype: int64\n",
      "\n",
      "Missing values in Courier Invoice:\n",
      "AWB Code                0\n",
      "Order ID                0\n",
      "Charged Weight          0\n",
      "Warehouse Pincode       0\n",
      "Customer Pincode        0\n",
      "Zone                    0\n",
      "Type of Shipment        0\n",
      "Billing Amount (Rs.)    0\n",
      "dtype: int64\n",
      "\n",
      "Missing values in courier company rates:\n",
      "fwd_a_fixed         0\n",
      "fwd_a_additional    0\n",
      "fwd_b_fixed         0\n",
      "fwd_b_additional    0\n",
      "fwd_c_fixed         0\n",
      "fwd_c_additional    0\n",
      "fwd_d_fixed         0\n",
      "fwd_d_additional    0\n",
      "fwd_e_fixed         0\n",
      "fwd_e_additional    0\n",
      "rto_a_fixed         0\n",
      "rto_a_additional    0\n",
      "rto_b_fixed         0\n",
      "rto_b_additional    0\n",
      "rto_c_fixed         0\n",
      "rto_c_additional    0\n",
      "rto_d_fixed         0\n",
      "rto_d_additional    0\n",
      "rto_e_fixed         0\n",
      "rto_e_additional    0\n",
      "dtype: int64\n"
     ]
    }
   ],
   "source": [
    "print(\"\\nMissing values in Website Order Report:\")\n",
    "print(order_report.isnull().sum())\n",
    "print(\"\\nMissing values in SKU Master:\")\n",
    "print(sku_master.isnull().sum())\n",
    "print(\"\\nMissing values in Pincode Mapping:\")\n",
    "print(pincode.isnull().sum())\n",
    "print(\"\\nMissing values in Courier Invoice:\")\n",
    "print(invoice.isnull().sum())\n",
    "print(\"\\nMissing values in courier company rates:\")\n",
    "print(courier_rates.isnull().sum())"
   ]
  },
  {
   "cell_type": "code",
   "execution_count": 5,
   "id": "bd026e5a",
   "metadata": {},
   "outputs": [],
   "source": [
    "order_report = order_report.drop(columns=['Unnamed: 3', 'Unnamed: 4'])\n",
    "\n",
    "# Remove unnamed columns from the SKU Master DataFrame\n",
    "sku_master = sku_master.drop(columns=['Unnamed: 2', 'Unnamed: 3', 'Unnamed: 4'])\n",
    "\n",
    "# Remove unnamed columns from the Pincode Mapping DataFrame\n",
    "pincode = pincode.drop(columns=['Unnamed: 3', 'Unnamed: 4'])"
   ]
  },
  {
   "cell_type": "code",
   "execution_count": 6,
   "id": "ec405fd3",
   "metadata": {},
   "outputs": [
    {
     "name": "stdout",
     "output_type": "stream",
     "text": [
      "   ExternOrderNo            SKU  Order Qty  Weight (g)\n",
      "0     2001827036  8904223818706        1.0         127\n",
      "1     2001821995  8904223818706        1.0         127\n",
      "2     2001819252  8904223818706        1.0         127\n",
      "3     2001816996  8904223818706        1.0         127\n",
      "4     2001814580  8904223818706        1.0         127\n"
     ]
    }
   ],
   "source": [
    "# Merge the Order Report and SKU Master based on SKU\n",
    "merged_data = pd.merge(order_report, sku_master, on='SKU')\n",
    "print(merged_data.head())"
   ]
  },
  {
   "cell_type": "code",
   "execution_count": 7,
   "id": "c60acf7a",
   "metadata": {},
   "outputs": [
    {
     "data": {
      "text/plain": [
       "(401, 4)"
      ]
     },
     "execution_count": 7,
     "metadata": {},
     "output_type": "execute_result"
    }
   ],
   "source": [
    "merged_data.shape"
   ]
  },
  {
   "cell_type": "code",
   "execution_count": 8,
   "id": "c774ee26",
   "metadata": {},
   "outputs": [],
   "source": [
    "merged_data = merged_data.rename(columns={'ExternOrderNo': 'Order ID'})"
   ]
  },
  {
   "cell_type": "code",
   "execution_count": 9,
   "id": "27ad6bf8",
   "metadata": {},
   "outputs": [
    {
     "name": "stdout",
     "output_type": "stream",
     "text": [
      "     Order ID  Customer Pincode Type of Shipment  Warehouse Pincode Zone\n",
      "0  2001806232            507101  Forward charges             121003    d\n",
      "1  2001806273            486886  Forward charges             121003    d\n",
      "2  2001806408            532484  Forward charges             121003    d\n",
      "3  2001806458            143001  Forward charges             121003    b\n",
      "4  2001807012            515591  Forward charges             121003    d\n"
     ]
    }
   ],
   "source": [
    "abc_courier = pincode.drop_duplicates(subset=['Customer Pincode'])\n",
    "courier_abc= invoice[['Order ID', 'Customer Pincode','Type of Shipment']]\n",
    "pincodes= courier_abc.merge(abc_courier,on='Customer Pincode')\n",
    "print(pincodes.head())"
   ]
  },
  {
   "cell_type": "code",
   "execution_count": 10,
   "id": "dbd344af",
   "metadata": {},
   "outputs": [],
   "source": [
    "merged2 = merged_data.merge(pincodes, on='Order ID')"
   ]
  },
  {
   "cell_type": "code",
   "execution_count": 11,
   "id": "6f9a23c3",
   "metadata": {},
   "outputs": [],
   "source": [
    "merged2['Weights (Kgs)'] = merged2['Weight (g)'] / 1000"
   ]
  },
  {
   "cell_type": "code",
   "execution_count": 12,
   "id": "8de2bcaa",
   "metadata": {},
   "outputs": [],
   "source": [
    "def weight_slab(weight):\n",
    "    i = round(weight % 1, 1)\n",
    "    if i == 0.0:\n",
    "        return weight\n",
    "    elif i > 0.5:\n",
    "        return int(weight) + 1.0\n",
    "    else:\n",
    "        return int(weight) + 0.5\n",
    "\n",
    "merged2['Weight Slab (KG)'] = merged2['Weights (Kgs)'].apply(weight_slab)\n",
    "invoice['Weight Slab Charged by Courier Company']=(invoice['Charged Weight']).apply(weight_slab)"
   ]
  },
  {
   "cell_type": "code",
   "execution_count": 13,
   "id": "8399ca7f",
   "metadata": {},
   "outputs": [],
   "source": [
    "invoice = invoice.rename(columns={'Zone': 'Delivery Zone Charged by Courier Company'})\n",
    "merged2 = merged2.rename(columns={'Zone': 'Delivery Zone As Per ABC'})\n",
    "merged2 = merged2.rename(columns={'Weight Slab (KG)': 'Weight Slab As Per ABC'})"
   ]
  },
  {
   "cell_type": "code",
   "execution_count": 14,
   "id": "d9394128",
   "metadata": {},
   "outputs": [
    {
     "name": "stdout",
     "output_type": "stream",
     "text": [
      "     Order ID            SKU  Order Qty  Weight (g)  Customer Pincode  \\\n",
      "0  2001827036  8904223818706        1.0         127            173213   \n",
      "1  2001827036  8904223819093        1.0         150            173213   \n",
      "2  2001827036  8904223819109        1.0         100            173213   \n",
      "3  2001827036  8904223818430        1.0         165            173213   \n",
      "4  2001827036  8904223819277        1.0         350            173213   \n",
      "\n",
      "  Type of Shipment  Warehouse Pincode Delivery Zone As Per ABC  Weights (Kgs)  \\\n",
      "0  Forward charges             121003                        e          0.127   \n",
      "1  Forward charges             121003                        e          0.150   \n",
      "2  Forward charges             121003                        e          0.100   \n",
      "3  Forward charges             121003                        e          0.165   \n",
      "4  Forward charges             121003                        e          0.350   \n",
      "\n",
      "   Weight Slab As Per ABC  Expected Charge as per ABC  \n",
      "0                     0.5                        56.6  \n",
      "1                     0.5                        56.6  \n",
      "2                     0.5                        56.6  \n",
      "3                     0.5                        56.6  \n",
      "4                     0.5                        56.6  \n"
     ]
    }
   ],
   "source": [
    "total_expected_charge = []\n",
    "\n",
    "for _, row in merged2.iterrows():\n",
    "    fwd_category = 'fwd_' + row['Delivery Zone As Per ABC']\n",
    "    fwd_fixed = courier_rates.at[0, fwd_category + '_fixed']\n",
    "    fwd_additional = courier_rates.at[0, fwd_category + '_additional']\n",
    "    rto_category = 'rto_' + row['Delivery Zone As Per ABC']\n",
    "    rto_fixed = courier_rates.at[0, rto_category + '_fixed']\n",
    "    rto_additional = courier_rates.at[0, rto_category + '_additional']\n",
    "\n",
    "    weight_slab = row['Weight Slab As Per ABC']\n",
    "\n",
    "    if row['Type of Shipment'] == 'Forward charges':\n",
    "        additional_weight = max(0, (weight_slab - 0.5) / 0.5)\n",
    "        total_expected_charge.append(fwd_fixed + additional_weight * fwd_additional)\n",
    "    elif row['Type of Shipment'] == 'Forward and RTO charges':\n",
    "        additional_weight = max(0, (weight_slab - 0.5) / 0.5)\n",
    "        total_expected_charge.append(fwd_fixed + additional_weight * (fwd_additional + rto_additional))\n",
    "    else:\n",
    "        total_expected_charge.append(0)\n",
    "\n",
    "merged2['Expected Charge as per ABC'] = total_expected_charge\n",
    "print(merged2.head())"
   ]
  },
  {
   "cell_type": "code",
   "execution_count": 15,
   "id": "f0294f6b",
   "metadata": {},
   "outputs": [
    {
     "name": "stdout",
     "output_type": "stream",
     "text": [
      "     Order ID            SKU  Order Qty  Weight (g)  Customer Pincode_x  \\\n",
      "0  2001827036  8904223818706        1.0         127              173213   \n",
      "1  2001827036  8904223819093        1.0         150              173213   \n",
      "2  2001827036  8904223819109        1.0         100              173213   \n",
      "3  2001827036  8904223818430        1.0         165              173213   \n",
      "4  2001827036  8904223819277        1.0         350              173213   \n",
      "\n",
      "  Type of Shipment_x  Warehouse Pincode_x Delivery Zone As Per ABC  \\\n",
      "0    Forward charges               121003                        e   \n",
      "1    Forward charges               121003                        e   \n",
      "2    Forward charges               121003                        e   \n",
      "3    Forward charges               121003                        e   \n",
      "4    Forward charges               121003                        e   \n",
      "\n",
      "   Weights (Kgs)  Weight Slab As Per ABC  Expected Charge as per ABC  \\\n",
      "0          0.127                     0.5                        56.6   \n",
      "1          0.150                     0.5                        56.6   \n",
      "2          0.100                     0.5                        56.6   \n",
      "3          0.165                     0.5                        56.6   \n",
      "4          0.350                     0.5                        56.6   \n",
      "\n",
      "        AWB Code  Charged Weight  Warehouse Pincode_y  Customer Pincode_y  \\\n",
      "0  1091122418320             1.6               121003              173213   \n",
      "1  1091122418320             1.6               121003              173213   \n",
      "2  1091122418320             1.6               121003              173213   \n",
      "3  1091122418320             1.6               121003              173213   \n",
      "4  1091122418320             1.6               121003              173213   \n",
      "\n",
      "  Delivery Zone Charged by Courier Company Type of Shipment_y  \\\n",
      "0                                        b    Forward charges   \n",
      "1                                        b    Forward charges   \n",
      "2                                        b    Forward charges   \n",
      "3                                        b    Forward charges   \n",
      "4                                        b    Forward charges   \n",
      "\n",
      "   Billing Amount (Rs.)  Weight Slab Charged by Courier Company  \n",
      "0                 117.9                                     2.0  \n",
      "1                 117.9                                     2.0  \n",
      "2                 117.9                                     2.0  \n",
      "3                 117.9                                     2.0  \n",
      "4                 117.9                                     2.0  \n"
     ]
    }
   ],
   "source": [
    "merged_output = merged2.merge(invoice, on='Order ID')\n",
    "print(merged_output.head())"
   ]
  },
  {
   "cell_type": "code",
   "execution_count": 16,
   "id": "1f4115ba",
   "metadata": {},
   "outputs": [
    {
     "name": "stdout",
     "output_type": "stream",
     "text": [
      "     Order ID  Difference (Rs.)  Expected Charge as per ABC\n",
      "0  2001827036              61.3                        56.6\n",
      "1  2001827036              61.3                        56.6\n",
      "2  2001827036              61.3                        56.6\n",
      "3  2001827036              61.3                        56.6\n",
      "4  2001827036              61.3                        56.6\n"
     ]
    }
   ],
   "source": [
    "df_diff = merged_output\n",
    "df_diff['Difference (Rs.)'] = df_diff['Billing Amount (Rs.)'] - df_diff['Expected Charge as per ABC']\n",
    "\n",
    "df_new = df_diff[['Order ID', 'Difference (Rs.)', 'Expected Charge as per ABC']]\n",
    "\n",
    "print(df_new.head())"
   ]
  },
  {
   "cell_type": "code",
   "execution_count": 17,
   "id": "10efd785",
   "metadata": {},
   "outputs": [
    {
     "name": "stdout",
     "output_type": "stream",
     "text": [
      "                                         Description  Count  Amount (Rs.)\n",
      "0  Total Orders where ABC has been correctly charged     12         507.6\n",
      "1        Total Orders where ABC has been overcharged    382       33750.5\n",
      "2       Total Orders where ABC has been undercharged      7        -165.2\n"
     ]
    }
   ],
   "source": [
    "total_correctly_charged = len(df_new[df_new['Difference (Rs.)'] == 0])\n",
    "total_overcharged = len(df_new[df_new['Difference (Rs.)'] > 0])\n",
    "total_undercharged = len(df_new[df_new['Difference (Rs.)'] < 0])\n",
    "\n",
    "# Calculate the total amount in each category\n",
    "amount_overcharged = abs(df_new[df_new['Difference (Rs.)'] > 0]['Difference (Rs.)'].sum())\n",
    "amount_undercharged = df_new[df_new['Difference (Rs.)'] < 0]['Difference (Rs.)'].sum()\n",
    "amount_correctly_charged = df_new[df_new['Difference (Rs.)'] == 0]['Expected Charge as per ABC'].sum()\n",
    "\n",
    "# Create a new DataFrame for the summary\n",
    "summary_data = {'Description': ['Total Orders where ABC has been correctly charged',\n",
    "                                'Total Orders where ABC has been overcharged',\n",
    "                                'Total Orders where ABC has been undercharged'],\n",
    "                'Count': [total_correctly_charged, total_overcharged, total_undercharged],\n",
    "                'Amount (Rs.)': [amount_correctly_charged, amount_overcharged, amount_undercharged]}\n",
    "\n",
    "df_summary = pd.DataFrame(summary_data)\n",
    "\n",
    "print(df_summary)"
   ]
  },
  {
   "cell_type": "code",
   "execution_count": 18,
   "id": "d94c91f0",
   "metadata": {},
   "outputs": [
    {
     "data": {
      "image/png": "[encoded data removed]",
      "text/plain": [
       "<Figure size 800x600 with 1 Axes>"
      ]
     },
     "metadata": {},
     "output_type": "display_data"
    }
   ],
   "source": [
    "import matplotlib.pyplot as plt\n",
    "\n",
    "# Data for the pie chart\n",
    "labels = df_summary['Description']\n",
    "sizes = df_summary['Count']\n",
    "#colors = ['gold', 'yellowgreen', 'lightcoral']\n",
    "explode = (0.1, 0, 0)  # explode the 1st slice (Total Orders where ABC has been correctly charged)\n",
    "\n",
    "# Plotting the pie chart\n",
    "plt.figure(figsize=(8, 6))\n",
    "plt.pie(sizes, explode=explode, labels=labels, autopct='%1.1f%%')\n",
    "plt.axis('equal')  # Equal aspect ratio ensures that pie is drawn as a circle\n",
    "plt.title('Distribution of Orders for ABC')\n",
    "plt.show()\n"
   ]
  },
  {
   "cell_type": "code",
   "execution_count": null,
   "id": "e90e0583",
   "metadata": {},
   "outputs": [],
   "source": []
  },
  {
   "cell_type": "code",
   "execution_count": null,
   "id": "d92c0eb2",
   "metadata": {},
   "outputs": [],
   "source": []
  }
 ],
 "metadata": {
  "kernelspec": {
   "display_name": "Python 3 (ipykernel)",
   "language": "python",
   "name": "python3"
  },
  "language_info": {
   "codemirror_mode": {
    "name": "ipython",
    "version": 3
   },
   "file_extension": ".py",
   "mimetype": "text/x-python",
   "name": "python",
   "nbconvert_exporter": "python",
   "pygments_lexer": "ipython3",
   "version": "3.11.5"
  }
 },
 "nbformat": 4,
 "nbformat_minor": 5
}
